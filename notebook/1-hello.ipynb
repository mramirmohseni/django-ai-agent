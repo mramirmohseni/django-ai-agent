{
 "cells": [
  {
   "metadata": {
    "ExecuteTime": {
     "end_time": "2025-06-15T03:27:40.566672Z",
     "start_time": "2025-06-15T03:27:40.544321Z"
    }
   },
   "cell_type": "code",
   "source": "print(\"hi\")",
   "id": "7935474d0b80d15a",
   "outputs": [
    {
     "name": "stdout",
     "output_type": "stream",
     "text": [
      "hi\n"
     ]
    }
   ],
   "execution_count": 2
  },
  {
   "metadata": {},
   "cell_type": "code",
   "outputs": [],
   "execution_count": null,
   "source": "",
   "id": "2ef366c48606408e"
  }
 ],
 "metadata": {},
 "nbformat": 4,
 "nbformat_minor": 5
}
